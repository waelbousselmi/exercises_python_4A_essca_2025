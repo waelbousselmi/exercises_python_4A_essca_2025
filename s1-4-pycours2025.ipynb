{
 "cells": [
  {
   "cell_type": "markdown",
   "id": "827fde82",
   "metadata": {},
   "source": [
    "# Session 1 & 2"
   ]
  },
  {
   "cell_type": "code",
   "execution_count": 1,
   "id": "b0d26e31",
   "metadata": {},
   "outputs": [],
   "source": [
    "# Simple funtion with python\n",
    "def become_user():\n",
    "    print(\"hello essca\")    "
   ]
  },
  {
   "cell_type": "code",
   "execution_count": 2,
   "id": "81ac1e28",
   "metadata": {},
   "outputs": [
    {
     "name": "stdout",
     "output_type": "stream",
     "text": [
      "hello essca\n"
     ]
    }
   ],
   "source": [
    "become_user()"
   ]
  },
  {
   "cell_type": "code",
   "execution_count": null,
   "id": "b3e8ae51",
   "metadata": {
    "hide_input": false
   },
   "outputs": [],
   "source": [
    "# ex1: create a new function called “greeting”, which allows you to display the following message: \n",
    "#      display the following message \"Happy New year\""
   ]
  },
  {
   "cell_type": "code",
   "execution_count": 5,
   "id": "40ec483e",
   "metadata": {
    "hide_input": false
   },
   "outputs": [],
   "source": [
    "# creating the funtion\n",
    "def greeting():\n",
    "    print(\"Happy New Year\")"
   ]
  },
  {
   "cell_type": "code",
   "execution_count": 6,
   "id": "57e4c19b",
   "metadata": {
    "hide_input": false,
    "scrolled": false
   },
   "outputs": [
    {
     "name": "stdout",
     "output_type": "stream",
     "text": [
      "Happy New Year\n"
     ]
    }
   ],
   "source": [
    "# calling the funtion\n",
    "greeting()"
   ]
  },
  {
   "cell_type": "code",
   "execution_count": 12,
   "id": "4b6db386",
   "metadata": {},
   "outputs": [],
   "source": [
    "# ex2: funtion with fstring message\n",
    "def greet_user(name):\n",
    "    print(f\"Bonjour, {name} ! Bienvenue à l'ESSCA.\")"
   ]
  },
  {
   "cell_type": "code",
   "execution_count": null,
   "id": "59eb9f18",
   "metadata": {},
   "outputs": [],
   "source": [
    "greet_user(\"Bob\")"
   ]
  },
  {
   "cell_type": "code",
   "execution_count": null,
   "id": "f373a8d8",
   "metadata": {},
   "outputs": [],
   "source": [
    "# Test your function with different names, such as \"Alice\", \"Bob\", or your own name."
   ]
  },
  {
   "cell_type": "code",
   "execution_count": 3,
   "id": "90508463",
   "metadata": {},
   "outputs": [],
   "source": [
    "# example of funtion with two inputs \n",
    "# it calculates the difference between the two inputs\n",
    "def gap(a,b):\n",
    "    c = a-b\n",
    "    return c"
   ]
  },
  {
   "cell_type": "code",
   "execution_count": 7,
   "id": "3c0b69ff",
   "metadata": {},
   "outputs": [
    {
     "data": {
      "text/plain": [
       "2"
      ]
     },
     "execution_count": 7,
     "metadata": {},
     "output_type": "execute_result"
    }
   ],
   "source": [
    "gap(4,2)"
   ]
  },
  {
   "cell_type": "code",
   "execution_count": 13,
   "id": "26c2bbba",
   "metadata": {},
   "outputs": [],
   "source": [
    "# another example: \n",
    "def add_numbers(a, b):\n",
    "    print(f\"La somme de {a} et {b} est {a + b}.\")"
   ]
  },
  {
   "cell_type": "code",
   "execution_count": 14,
   "id": "078f1edf",
   "metadata": {},
   "outputs": [
    {
     "name": "stdout",
     "output_type": "stream",
     "text": [
      "La somme de 123 et 675 est 798.\n"
     ]
    }
   ],
   "source": [
    "add_numbers(123, 675)"
   ]
  },
  {
   "cell_type": "code",
   "execution_count": 11,
   "id": "ca889ec3",
   "metadata": {},
   "outputs": [],
   "source": [
    "# Funtion to check the age"
   ]
  },
  {
   "cell_type": "code",
   "execution_count": 15,
   "id": "366b960a",
   "metadata": {},
   "outputs": [],
   "source": [
    "def check_age(age):\n",
    "    if age >= 18:\n",
    "        print(f\"Vous avez {age} ans, vous êtes majeur.\")\n",
    "    else:\n",
    "        print(f\"Vous avez {age} ans, vous êtes mineur.\")"
   ]
  },
  {
   "cell_type": "code",
   "execution_count": 16,
   "id": "8e42996e",
   "metadata": {},
   "outputs": [
    {
     "name": "stdout",
     "output_type": "stream",
     "text": [
      "Vous avez 23 ans, vous êtes majeur.\n"
     ]
    }
   ],
   "source": [
    "check_age(23)"
   ]
  },
  {
   "cell_type": "code",
   "execution_count": 17,
   "id": "b386be26",
   "metadata": {},
   "outputs": [],
   "source": [
    "# import the package numpy\n",
    "import numpy as np"
   ]
  },
  {
   "cell_type": "code",
   "execution_count": 18,
   "id": "6ebe0c4a",
   "metadata": {},
   "outputs": [
    {
     "data": {
      "text/plain": [
       "0.6931471805599453"
      ]
     },
     "execution_count": 18,
     "metadata": {},
     "output_type": "execute_result"
    }
   ],
   "source": [
    "np.log(2)"
   ]
  },
  {
   "cell_type": "code",
   "execution_count": 2,
   "id": "027dd5b5",
   "metadata": {},
   "outputs": [
    {
     "name": "stdout",
     "output_type": "stream",
     "text": [
      "4\n"
     ]
    },
    {
     "data": {
      "text/plain": [
       "int"
      ]
     },
     "execution_count": 2,
     "metadata": {},
     "output_type": "execute_result"
    }
   ],
   "source": [
    "# types : int / str / float / bool (binaire) \n",
    "a = 4\n",
    "print(a)\n",
    "type(a)"
   ]
  },
  {
   "cell_type": "code",
   "execution_count": 13,
   "id": "2f50e19d",
   "metadata": {},
   "outputs": [
    {
     "name": "stdout",
     "output_type": "stream",
     "text": [
      "<class 'str'>\n"
     ]
    }
   ],
   "source": [
    "b = \"hello\"\n",
    "print(type(b))"
   ]
  },
  {
   "cell_type": "code",
   "execution_count": 14,
   "id": "7e330ae3",
   "metadata": {},
   "outputs": [
    {
     "name": "stdout",
     "output_type": "stream",
     "text": [
      "<class 'float'>\n"
     ]
    }
   ],
   "source": [
    "c = 2.01\n",
    "print(type(c))"
   ]
  },
  {
   "cell_type": "code",
   "execution_count": 21,
   "id": "c314a55f",
   "metadata": {},
   "outputs": [
    {
     "data": {
      "text/plain": [
       "bool"
      ]
     },
     "execution_count": 21,
     "metadata": {},
     "output_type": "execute_result"
    }
   ],
   "source": [
    "d = True \n",
    "type(d)"
   ]
  },
  {
   "cell_type": "code",
   "execution_count": 22,
   "id": "6afd3a27",
   "metadata": {},
   "outputs": [],
   "source": [
    "variable1 = 42\n",
    "variable2 = \"Bonjour\"\n",
    "variable3 = [1, 2, 3]"
   ]
  },
  {
   "cell_type": "code",
   "execution_count": 23,
   "id": "97a5f633",
   "metadata": {},
   "outputs": [
    {
     "name": "stdout",
     "output_type": "stream",
     "text": [
      "<class 'int'> <class 'str'> <class 'list'>\n"
     ]
    }
   ],
   "source": [
    "print(type(variable1),type(variable2),type(variable3))"
   ]
  },
  {
   "cell_type": "code",
   "execution_count": 27,
   "id": "14fbf5a5",
   "metadata": {},
   "outputs": [],
   "source": [
    "# other types\n",
    "variable4 = True\n",
    "variable5 = [1,2,3] # list\n",
    "variable6 = (1,2,3) # tuple\n",
    "variable7 = {1:\"az\", 2:\"da\"} # dictionary"
   ]
  },
  {
   "cell_type": "code",
   "execution_count": 28,
   "id": "b1bc1031",
   "metadata": {},
   "outputs": [
    {
     "name": "stdout",
     "output_type": "stream",
     "text": [
      "<class 'bool'> <class 'list'> <class 'tuple'> <class 'dict'>\n"
     ]
    }
   ],
   "source": [
    "print(type(variable4),type(variable5),type(variable6),type(variable7) )"
   ]
  },
  {
   "cell_type": "code",
   "execution_count": 30,
   "id": "1b7a7fcb",
   "metadata": {},
   "outputs": [
    {
     "name": "stdout",
     "output_type": "stream",
     "text": [
      "[1, 2, 3, 4]\n"
     ]
    }
   ],
   "source": [
    "# difference between tuple and list\n",
    "#Lists: Mutable. Lists can be modified after their creation (addition, deletion, modification of elements).\n",
    "#Tuple: Immutable. Once created, a tuple cannot be modified.\n",
    "#\n",
    "# add 4 at the end of the list 'variable5'\n",
    "variable5.append(4)\n",
    "print(variable5)"
   ]
  },
  {
   "cell_type": "code",
   "execution_count": 31,
   "id": "24c7b24b",
   "metadata": {},
   "outputs": [
    {
     "name": "stdout",
     "output_type": "stream",
     "text": [
      "[99, 2, 3, 4]\n"
     ]
    }
   ],
   "source": [
    "# replace 1 by 99 in list 'variable5'\n",
    "variable5[0]=99\n",
    "print(variable5)"
   ]
  },
  {
   "cell_type": "markdown",
   "id": "e45d0ca7",
   "metadata": {},
   "source": [
    "## practical with \"fstring\" format"
   ]
  },
  {
   "cell_type": "code",
   "execution_count": 1,
   "id": "75043145",
   "metadata": {},
   "outputs": [
    {
     "data": {
      "text/plain": [
       "'salut bob'"
      ]
     },
     "execution_count": 1,
     "metadata": {},
     "output_type": "execute_result"
    }
   ],
   "source": [
    "# list \n",
    "nn = [1, 23, \"Alice\", 89.01, \"bob\"]\n",
    "r = \"salut \"\n",
    "# print: salut bob\n",
    "r + nn[4]"
   ]
  },
  {
   "cell_type": "code",
   "execution_count": 2,
   "id": "ca545294",
   "metadata": {},
   "outputs": [
    {
     "name": "stdout",
     "output_type": "stream",
     "text": [
      "salut  Alice !\n"
     ]
    }
   ],
   "source": [
    "#print: salut  Alice !\n",
    "print(f\"{r} {nn[2]} !\")"
   ]
  },
  {
   "cell_type": "code",
   "execution_count": null,
   "id": "b599920a",
   "metadata": {},
   "outputs": [],
   "source": [
    "# display the following message :\n",
    "# Bonjour Alice et Bob !!! \n",
    "# fstring format\n",
    "print(f\"Bonjour {nn[2]} et {nn[4]}\")"
   ]
  },
  {
   "cell_type": "code",
   "execution_count": 3,
   "id": "7e473954",
   "metadata": {},
   "outputs": [],
   "source": [
    "mm = [\"Argentina\", \"France\", \"Germany\"] \n",
    "rr = [2022, 2018, 2014] \n",
    "# Exercise 7 \n",
    "# Argentina won the world cup in 2022 and France won it in 2018\n",
    "# using the lists mm and rr"
   ]
  },
  {
   "cell_type": "code",
   "execution_count": 4,
   "id": "cf84a96a",
   "metadata": {},
   "outputs": [
    {
     "name": "stdout",
     "output_type": "stream",
     "text": [
      "Argentina won the world cup in 2022 and France won it in 2018\n"
     ]
    }
   ],
   "source": [
    "print(f\"{mm[0]} won the world cup in {rr[0]} and {mm[1]} won it in {rr[1]}\")"
   ]
  },
  {
   "cell_type": "code",
   "execution_count": null,
   "id": "7111fb19",
   "metadata": {},
   "outputs": [],
   "source": [
    "# practical with lists and list positions"
   ]
  },
  {
   "cell_type": "code",
   "execution_count": 6,
   "id": "98441226",
   "metadata": {},
   "outputs": [
    {
     "name": "stdout",
     "output_type": "stream",
     "text": [
      "['Argentina', 'Germany']\n"
     ]
    }
   ],
   "source": [
    "ll = [mm[0] , mm[2]]\n",
    "print(ll)"
   ]
  },
  {
   "cell_type": "code",
   "execution_count": 7,
   "id": "3f54fbd8",
   "metadata": {},
   "outputs": [
    {
     "name": "stdout",
     "output_type": "stream",
     "text": [
      "['Argentina', 'France', 'Germany', 'Argentina', 'France', 'Germany']\n"
     ]
    }
   ],
   "source": [
    "kk = mm *2\n",
    "print(kk)"
   ]
  },
  {
   "cell_type": "code",
   "execution_count": null,
   "id": "d88eeee8",
   "metadata": {},
   "outputs": [],
   "source": [
    "b = len(kk)\n",
    "print(kk[:3])"
   ]
  },
  {
   "cell_type": "code",
   "execution_count": 9,
   "id": "a0d8a021",
   "metadata": {},
   "outputs": [
    {
     "name": "stdout",
     "output_type": "stream",
     "text": [
      "['Argentina', 'France', 'France', 'Germany']\n"
     ]
    }
   ],
   "source": [
    "# print from kk only the two first variables and the two last variables \n",
    "print(kk[:2]+kk[4:])"
   ]
  },
  {
   "cell_type": "code",
   "execution_count": 10,
   "id": "cbfd378c",
   "metadata": {},
   "outputs": [
    {
     "name": "stdout",
     "output_type": "stream",
     "text": [
      "['Argentina', 'France', 'Germany']\n"
     ]
    }
   ],
   "source": [
    "# if I don't know the size of the list and I want to display the 3 last variables \n",
    "print(kk[len(kk)-3:len(kk)])"
   ]
  },
  {
   "cell_type": "code",
   "execution_count": 11,
   "id": "ae9a1a76",
   "metadata": {},
   "outputs": [],
   "source": [
    "jj = [1,22,55,77,\"Alice\", 88, 23.23, \"Bob\", \"Tom\", 88, 33, 1,2,3,6,5,4,7,8,9]"
   ]
  },
  {
   "cell_type": "code",
   "execution_count": 12,
   "id": "3a64cb9a",
   "metadata": {},
   "outputs": [
    {
     "name": "stdout",
     "output_type": "stream",
     "text": [
      "['Bob', 'Tom']\n"
     ]
    }
   ],
   "source": [
    "# display \"Bob\", \"Tom\" \n",
    "print(jj[7:9])"
   ]
  },
  {
   "cell_type": "markdown",
   "id": "f15745c7",
   "metadata": {},
   "source": [
    "# On boarding 2"
   ]
  },
  {
   "cell_type": "code",
   "execution_count": 33,
   "id": "78d8eab7",
   "metadata": {},
   "outputs": [
    {
     "name": "stdout",
     "output_type": "stream",
     "text": [
      "Audit\n"
     ]
    }
   ],
   "source": [
    "s= 'Audit'\n",
    "print(s)"
   ]
  },
  {
   "cell_type": "code",
   "execution_count": 36,
   "id": "47f9882f",
   "metadata": {},
   "outputs": [
    {
     "name": "stdout",
     "output_type": "stream",
     "text": [
      "A\n",
      "u\n"
     ]
    }
   ],
   "source": [
    "print(s[0])\n",
    "print(s[1])"
   ]
  },
  {
   "cell_type": "code",
   "execution_count": 40,
   "id": "7db38e9b",
   "metadata": {},
   "outputs": [
    {
     "name": "stdout",
     "output_type": "stream",
     "text": [
      "Audit\n",
      "udit\n",
      "Aud\n",
      "Audit\n",
      "dit\n"
     ]
    }
   ],
   "source": [
    "# display letters according to positions\n",
    "print(s[0:])\n",
    "print(s[1:])\n",
    "print(s[:3])\n",
    "print(s[:])\n",
    "print(s[2:6])"
   ]
  },
  {
   "cell_type": "code",
   "execution_count": 42,
   "id": "44bb03b4",
   "metadata": {},
   "outputs": [
    {
     "name": "stdout",
     "output_type": "stream",
     "text": [
      "Make an Audit\n"
     ]
    }
   ],
   "source": [
    "s1 = \"Make an \"\n",
    "print(s1 + s)"
   ]
  },
  {
   "cell_type": "code",
   "execution_count": 44,
   "id": "c8f9be53",
   "metadata": {},
   "outputs": [
    {
     "name": "stdout",
     "output_type": "stream",
     "text": [
      "Make an Audit\n"
     ]
    }
   ],
   "source": [
    "# or \n",
    "s2 = s1 + s\n",
    "print(s2)"
   ]
  },
  {
   "cell_type": "markdown",
   "id": "6c4cb45c",
   "metadata": {},
   "source": [
    "# Session 3"
   ]
  },
  {
   "cell_type": "code",
   "execution_count": 45,
   "id": "90cde4bb",
   "metadata": {},
   "outputs": [],
   "source": [
    "# list \"tp\"\n",
    "tp = (\"apple\", \"a\", 100, 20.78)"
   ]
  },
  {
   "cell_type": "code",
   "execution_count": 46,
   "id": "afd42f97",
   "metadata": {},
   "outputs": [
    {
     "name": "stdout",
     "output_type": "stream",
     "text": [
      "('apple', 'a', 20.78)\n"
     ]
    }
   ],
   "source": [
    "print(tp[0:2]+tp[3:])"
   ]
  },
  {
   "cell_type": "code",
   "execution_count": 13,
   "id": "7b05390d",
   "metadata": {},
   "outputs": [],
   "source": [
    "# list \n",
    "nn = [1, 23, \"Alice\", 89.01, \"bob\"]"
   ]
  },
  {
   "cell_type": "code",
   "execution_count": 15,
   "id": "bd78a4b3",
   "metadata": {},
   "outputs": [
    {
     "name": "stdout",
     "output_type": "stream",
     "text": [
      "[1, 23, 'Marie', 89.01, 'bob']\n"
     ]
    }
   ],
   "source": [
    "# replace \"Alice\" by \"Marie\" (for comments)\n",
    "nn[2] = \"Marie\"\n",
    "print(nn)"
   ]
  },
  {
   "cell_type": "code",
   "execution_count": 16,
   "id": "e09cd316",
   "metadata": {},
   "outputs": [
    {
     "data": {
      "text/plain": [
       "float"
      ]
     },
     "execution_count": 16,
     "metadata": {},
     "output_type": "execute_result"
    }
   ],
   "source": [
    "# display the type of  89.01\n",
    "type(nn[3])"
   ]
  },
  {
   "cell_type": "code",
   "execution_count": 17,
   "id": "6523b1c5",
   "metadata": {},
   "outputs": [
    {
     "data": {
      "text/plain": [
       "4"
      ]
     },
     "execution_count": 17,
     "metadata": {},
     "output_type": "execute_result"
    }
   ],
   "source": [
    "# display the following message:\n",
    "# the type of 89.01 in position 3 is float (using fstring)\n",
    "nn.index(\"bob\")"
   ]
  },
  {
   "cell_type": "code",
   "execution_count": 18,
   "id": "c6aaeac0",
   "metadata": {},
   "outputs": [
    {
     "name": "stdout",
     "output_type": "stream",
     "text": [
      "the type of 89.01 in position 3 is <class 'float'>\n"
     ]
    }
   ],
   "source": [
    "print(f\"the type of {nn[3]} in position {nn.index(89.01)} is {type(nn[3])}\")"
   ]
  },
  {
   "cell_type": "code",
   "execution_count": 19,
   "id": "732afb93",
   "metadata": {},
   "outputs": [],
   "source": [
    "# list \n",
    "s = \"Bonjour\"\n",
    "es = \"Essca\"\n",
    "nn = [1, 23, \"Alice\", 89.01, \"Bob\", 22]\n",
    "# from list nn, display \n",
    "# Bonjour Alice et Bob ! \n",
    "# Alice studies at Essca and she is 23 years old\n",
    "# Bob studies at Essca and  he is 22 years old"
   ]
  },
  {
   "cell_type": "code",
   "execution_count": 22,
   "id": "6c647d30",
   "metadata": {},
   "outputs": [
    {
     "name": "stdout",
     "output_type": "stream",
     "text": [
      "Bonjour Alice et Bob ! \n",
      "Alice studies at Essca and she is 23 years old\n",
      "Bob studies at Essca and she is 22 years old\n"
     ]
    }
   ],
   "source": [
    "print(f\"{s} {nn[2]} et {nn[4]} ! \")\n",
    "print(f\"{nn[2]} studies at {es} and she is {nn[1]} years old\")\n",
    "print(f\"{nn[4]} studies at {es} and she is {nn[5]} years old\")"
   ]
  },
  {
   "cell_type": "code",
   "execution_count": 24,
   "id": "62fab906",
   "metadata": {},
   "outputs": [],
   "source": [
    "# create function \"add_numbers\" with two inputs that gives you the following message :\n",
    "# it prints : the sum of a ans b is c \n",
    "# use fstring"
   ]
  },
  {
   "cell_type": "code",
   "execution_count": 26,
   "id": "23322252",
   "metadata": {},
   "outputs": [],
   "source": [
    "def add_numbers(a,b):\n",
    "    c = a + b \n",
    "    print(f\"the sum of {a} and {b} is {c}\")"
   ]
  },
  {
   "cell_type": "code",
   "execution_count": 27,
   "id": "308c27c1",
   "metadata": {},
   "outputs": [
    {
     "name": "stdout",
     "output_type": "stream",
     "text": [
      "the sum of 25 and 33 is 58\n"
     ]
    }
   ],
   "source": [
    "add_numbers(25,33)"
   ]
  },
  {
   "cell_type": "code",
   "execution_count": 30,
   "id": "085f1f2a",
   "metadata": {},
   "outputs": [],
   "source": [
    "## case of function inside another function\n",
    "###------------- function 1:\n",
    "# function helps you to calculate a sum of inputs \n",
    "# this function gives you a value that I could use in a second function\n",
    "def sumnumbers(a,b):\n",
    "    c = add_numbers(a,b)\n",
    "    return c"
   ]
  },
  {
   "cell_type": "code",
   "execution_count": 31,
   "id": "b999fa6c",
   "metadata": {},
   "outputs": [
    {
     "name": "stdout",
     "output_type": "stream",
     "text": [
      "The sum of 1 and 5 is 6\n"
     ]
    }
   ],
   "source": [
    "sumnumbers(1,5)"
   ]
  },
  {
   "cell_type": "markdown",
   "id": "29cebec4",
   "metadata": {},
   "source": [
    "##  condition: \n",
    "### if / elif / else"
   ]
  },
  {
   "cell_type": "code",
   "execution_count": 32,
   "id": "35ddec90",
   "metadata": {},
   "outputs": [],
   "source": [
    "# creat a function to check the age \n",
    "def check_age(z):\n",
    "    if z >= 18:\n",
    "        print(\"you are a major\")\n",
    "    elif z <18:\n",
    "        print(\"you are a teenager\")"
   ]
  },
  {
   "cell_type": "code",
   "execution_count": 33,
   "id": "f1293e0a",
   "metadata": {},
   "outputs": [
    {
     "name": "stdout",
     "output_type": "stream",
     "text": [
      "you are a teenager\n"
     ]
    }
   ],
   "source": [
    "check_age(17)"
   ]
  },
  {
   "cell_type": "code",
   "execution_count": null,
   "id": "85941ffc",
   "metadata": {},
   "outputs": [],
   "source": [
    "# do the same with the following message:\n",
    "# you are '!!' years old, so you are a \"!!!\" (use fstring format)"
   ]
  },
  {
   "cell_type": "code",
   "execution_count": 34,
   "id": "1273aead",
   "metadata": {},
   "outputs": [],
   "source": [
    "# creat a function to check the age \n",
    "def check_age2(z):\n",
    "    if z >= 18:\n",
    "        print(f\"you are {z} years old, so you are a major \")\n",
    "    elif z <18:\n",
    "        print(f\"you are {z} years old, so you are a teenager \")"
   ]
  },
  {
   "cell_type": "code",
   "execution_count": 35,
   "id": "3beda08a",
   "metadata": {},
   "outputs": [
    {
     "name": "stdout",
     "output_type": "stream",
     "text": [
      "you are 30 years old, so you are a major \n"
     ]
    }
   ],
   "source": [
    "check_age2(30)"
   ]
  },
  {
   "cell_type": "code",
   "execution_count": 36,
   "id": "64f4ab9e",
   "metadata": {},
   "outputs": [],
   "source": [
    "# IMC function\n",
    "def calcul_IMC(a,b):\n",
    "    c = a / b **2\n",
    "    if c < 25:\n",
    "        dd = \"Normal\"\n",
    "    elif c>=25 and c<=29.9:\n",
    "        dd = \"overweight\"\n",
    "    elif c>=30 and c<=34.9: \n",
    "        dd = \"moderate obesity\"\n",
    "    elif c>=35 and c<=39.9: \n",
    "        dd = \"severe obesity\"\n",
    "    else:\n",
    "        dd = \"massive obesity\"\n",
    "    return dd  "
   ]
  },
  {
   "cell_type": "code",
   "execution_count": 37,
   "id": "4d1cbd47",
   "metadata": {},
   "outputs": [
    {
     "data": {
      "text/plain": [
       "'overweight'"
      ]
     },
     "execution_count": 37,
     "metadata": {},
     "output_type": "execute_result"
    }
   ],
   "source": [
    "calcul_IMC(85,1.80)"
   ]
  },
  {
   "cell_type": "markdown",
   "id": "8bcaaacd",
   "metadata": {},
   "source": [
    "# Loop \"for\""
   ]
  },
  {
   "cell_type": "code",
   "execution_count": null,
   "id": "71bfe7a7",
   "metadata": {},
   "outputs": [],
   "source": [
    "## practice with Loop \"for\""
   ]
  },
  {
   "cell_type": "code",
   "execution_count": 47,
   "id": "613892ff",
   "metadata": {},
   "outputs": [
    {
     "name": "stdout",
     "output_type": "stream",
     "text": [
      "1\n",
      "2\n",
      "3\n",
      "4\n",
      "5\n"
     ]
    }
   ],
   "source": [
    "#exple 1: Loop \n",
    "nombres = [1,2,3,4,5]\n",
    "for i in nombres:\n",
    "    print(i)"
   ]
  },
  {
   "cell_type": "code",
   "execution_count": 48,
   "id": "24d524cf",
   "metadata": {},
   "outputs": [
    {
     "name": "stdout",
     "output_type": "stream",
     "text": [
      "Le nombre actuel est : 1\n",
      "Le nombre actuel est : 2\n",
      "Le nombre actuel est : 3\n",
      "Le nombre actuel est : 4\n",
      "Le nombre actuel est : 5\n"
     ]
    }
   ],
   "source": [
    "#exple 2\n",
    "nombres = [1,2,3,4,5]\n",
    "for i in nombres:\n",
    "    print(f\"Le nombre actuel est : {i}\")"
   ]
  },
  {
   "cell_type": "code",
   "execution_count": 49,
   "id": "fcea1a48",
   "metadata": {},
   "outputs": [
    {
     "name": "stdout",
     "output_type": "stream",
     "text": [
      "1\n",
      "2\n",
      "3\n",
      "4\n",
      "5\n"
     ]
    }
   ],
   "source": [
    "#exple 3\n",
    "for i in range(1,6):\n",
    "    print(i)"
   ]
  },
  {
   "cell_type": "code",
   "execution_count": 50,
   "id": "0dea3a7d",
   "metadata": {},
   "outputs": [
    {
     "name": "stdout",
     "output_type": "stream",
     "text": [
      "1\n",
      "3\n",
      "5\n"
     ]
    }
   ],
   "source": [
    "#exple 4\n",
    "for i in range(1,6,2):\n",
    "    print(i)"
   ]
  },
  {
   "cell_type": "code",
   "execution_count": 52,
   "id": "c9862fa2",
   "metadata": {},
   "outputs": [],
   "source": [
    "# another list\n",
    "company = [\"AAA\", \"AB\", \"ESG:55\", \"Credit Score: BB\", \"Solvency Score: AA\"]"
   ]
  },
  {
   "cell_type": "code",
   "execution_count": 53,
   "id": "3f60ce27",
   "metadata": {},
   "outputs": [
    {
     "name": "stdout",
     "output_type": "stream",
     "text": [
      "AB\n",
      "ESG:55\n"
     ]
    }
   ],
   "source": [
    "for rating in company[1:3]:\n",
    "    print(rating)"
   ]
  },
  {
   "cell_type": "code",
   "execution_count": 57,
   "id": "8a7730f8",
   "metadata": {},
   "outputs": [
    {
     "name": "stdout",
     "output_type": "stream",
     "text": [
      "0\n",
      "5\n",
      "0\n",
      "5\n"
     ]
    }
   ],
   "source": [
    "for i in [0,5]:\n",
    "    print(i)\n",
    "# it's the same if I write as follows: \n",
    "#ss = [0,5]\n",
    "#for i in ss:\n",
    "#    print(i)"
   ]
  },
  {
   "cell_type": "code",
   "execution_count": 58,
   "id": "9a266aec",
   "metadata": {},
   "outputs": [
    {
     "name": "stdout",
     "output_type": "stream",
     "text": [
      "0\n",
      "1\n",
      "2\n",
      "3\n",
      "4\n"
     ]
    }
   ],
   "source": [
    "for i in range(0,5):\n",
    "    print(i)"
   ]
  },
  {
   "cell_type": "code",
   "execution_count": 56,
   "id": "a3eb7c5c",
   "metadata": {},
   "outputs": [
    {
     "name": "stdout",
     "output_type": "stream",
     "text": [
      "0\n",
      "1\n",
      "2\n",
      "3\n",
      "4\n"
     ]
    }
   ],
   "source": [
    "for i in range(5):\n",
    "    print(i)"
   ]
  },
  {
   "cell_type": "code",
   "execution_count": 23,
   "id": "e9e54fef",
   "metadata": {},
   "outputs": [
    {
     "data": {
      "text/plain": [
       "5"
      ]
     },
     "execution_count": 23,
     "metadata": {},
     "output_type": "execute_result"
    }
   ],
   "source": [
    "company = [\"AAA\", \"AB\", \"ESG:55\", \"Credit Score: BB\", \"Solvency Score: AA\"]\n",
    "len(company)"
   ]
  },
  {
   "cell_type": "code",
   "execution_count": 24,
   "id": "f45a9306",
   "metadata": {},
   "outputs": [
    {
     "name": "stdout",
     "output_type": "stream",
     "text": [
      "Le rating 0 est de AAA\n",
      "Le rating 1 est de AB\n",
      "Le rating 2 est de ESG:55\n",
      "Le rating 3 est de Credit Score: BB\n",
      "Le rating 4 est de Solvency Score: AA\n"
     ]
    }
   ],
   "source": [
    "# Loop with fstring\n",
    "for i in range(len(company)):\n",
    "    print(f\"Le rating {i} est de {company[i]}\")"
   ]
  },
  {
   "cell_type": "code",
   "execution_count": 37,
   "id": "f79a748a",
   "metadata": {},
   "outputs": [],
   "source": [
    "# example: an ATM in your bank with 3 customers\n",
    "idclient = [112, 113, 114]\n",
    "nom = [\"Fontaine\", \"Zidane\", \"Zlatan\"]\n",
    "prenom = [\"Jean\", \"Zine dine\", \"Ibrahim\"]\n",
    "age = [30, 40, 35]\n",
    "solde = [123000, 200000, 300000]"
   ]
  },
  {
   "cell_type": "code",
   "execution_count": 38,
   "id": "ce846247",
   "metadata": {},
   "outputs": [
    {
     "name": "stdout",
     "output_type": "stream",
     "text": [
      "Account balance 112 of customer Fontaine Jean 30 years old is 123000\n",
      "Account balance 113 of customer Zidane Zine dine 40 years old is 200000\n",
      "Account balance 114 of customer Zlatan Ibrahim 35 years old is 300000\n"
     ]
    }
   ],
   "source": [
    "# using a loop you can print specific informations about your customers\n",
    "for i in range(len(idclient)):\n",
    "    print(f\"Account balance {idclient[i]} of customer {nom[i]} {prenom[i]} {age[i]} years old is {solde[i]}\")"
   ]
  },
  {
   "cell_type": "code",
   "execution_count": 30,
   "id": "243efcd9",
   "metadata": {},
   "outputs": [
    {
     "name": "stdout",
     "output_type": "stream",
     "text": [
      "(0, 'AAA')\n",
      "(1, 'AB')\n",
      "(2, 'ESG:55')\n",
      "(3, 'Credit Score: BB')\n",
      "(4, 'Solvency Score: AA')\n"
     ]
    }
   ],
   "source": [
    "company = [\"AAA\", \"AB\", \"ESG:55\", \"Credit Score: BB\", \"Solvency Score: AA\"]\n",
    "for i in enumerate(company):\n",
    "    print(i)"
   ]
  },
  {
   "cell_type": "code",
   "execution_count": 31,
   "id": "dadb5bc1",
   "metadata": {},
   "outputs": [
    {
     "name": "stdout",
     "output_type": "stream",
     "text": [
      "0 AAA\n",
      "1 AB\n",
      "2 ESG:55\n",
      "3 Credit Score: BB\n",
      "4 Solvency Score: AA\n"
     ]
    }
   ],
   "source": [
    "for i,j in enumerate(company):\n",
    "    print(i,j)"
   ]
  },
  {
   "cell_type": "code",
   "execution_count": 32,
   "id": "1eed604e",
   "metadata": {},
   "outputs": [
    {
     "name": "stdout",
     "output_type": "stream",
     "text": [
      "Index : 0, Valeur : AAA\n",
      "Index : 1, Valeur : AB\n",
      "Index : 2, Valeur : ESG:55\n",
      "Index : 3, Valeur : Credit Score: BB\n",
      "Index : 4, Valeur : Solvency Score: AA\n"
     ]
    }
   ],
   "source": [
    "for index, value in enumerate(company):\n",
    "    print(f\"Index : {index}, Valeur : {value}\")"
   ]
  },
  {
   "cell_type": "code",
   "execution_count": 36,
   "id": "4a01fe24",
   "metadata": {},
   "outputs": [
    {
     "name": "stdout",
     "output_type": "stream",
     "text": [
      "Index : 0, Valeur : Apple\n",
      "Index : 1, Valeur : Google\n",
      "Index : 2, Valeur : Microsoft\n"
     ]
    }
   ],
   "source": [
    "company = ['Apple', 'Google', 'Microsoft']\n",
    "for index, value in enumerate(company):\n",
    "    print(f\"Index : {index}, Valeur : {value}\")"
   ]
  },
  {
   "cell_type": "code",
   "execution_count": 39,
   "id": "68f1b606",
   "metadata": {},
   "outputs": [
    {
     "name": "stdout",
     "output_type": "stream",
     "text": [
      "Liste des entreprises :\n",
      "1. Apple\n",
      "2. Google\n",
      "3. Microsoft\n"
     ]
    }
   ],
   "source": [
    "print(\"Liste des entreprises :\")\n",
    "for index, value in enumerate(company, start=1):  # start=1 pour commencer l'indexation à 1\n",
    "    print(f\"{index}. {value}\")"
   ]
  },
  {
   "cell_type": "markdown",
   "id": "a64d574c",
   "metadata": {},
   "source": [
    "# exercise ATM2: use the excel file \"exercise_loop_s3.xlsx\"  to display your customers' information "
   ]
  },
  {
   "cell_type": "code",
   "execution_count": null,
   "id": "00498c7e",
   "metadata": {},
   "outputs": [],
   "source": []
  }
 ],
 "metadata": {
  "kernelspec": {
   "display_name": "Python 3",
   "language": "python",
   "name": "python3"
  },
  "language_info": {
   "codemirror_mode": {
    "name": "ipython",
    "version": 3
   },
   "file_extension": ".py",
   "mimetype": "text/x-python",
   "name": "python",
   "nbconvert_exporter": "python",
   "pygments_lexer": "ipython3",
   "version": "3.8.5"
  }
 },
 "nbformat": 4,
 "nbformat_minor": 5
}
