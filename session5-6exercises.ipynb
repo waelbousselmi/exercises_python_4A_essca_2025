{
 "cells": [
  {
   "cell_type": "markdown",
   "id": "a045975c",
   "metadata": {},
   "source": [
    "## Session 5"
   ]
  },
  {
   "cell_type": "code",
   "execution_count": null,
   "id": "e1aa2b6a",
   "metadata": {},
   "outputs": [],
   "source": [
    "# Exercise 1\n",
    "# s = \"hello\"\n",
    "# change to capital letters\n",
    "# ==> HELLO"
   ]
  },
  {
   "cell_type": "code",
   "execution_count": null,
   "id": "d957e25e",
   "metadata": {},
   "outputs": [],
   "source": [
    "s = \"hello bob comment vas-tu?\"\n",
    "print(s)\n",
    "r = s.upper()\n",
    "print(r)"
   ]
  },
  {
   "cell_type": "code",
   "execution_count": null,
   "id": "508043a7",
   "metadata": {},
   "outputs": [],
   "source": [
    "# Exercise 2:\n",
    "# convert the following number 55.298754 to 55.29\n",
    "d = 55.278754\n",
    "print(round(d,2))"
   ]
  },
  {
   "cell_type": "code",
   "execution_count": null,
   "id": "1ccdc068",
   "metadata": {},
   "outputs": [],
   "source": [
    "# Exercise 3: \n",
    "# create a function with a loop to calculate the following ratios :\n",
    "# RFP = net income / equity \n",
    "# EM = operating profit / turnover\n",
    "# NM = net income / turnover "
   ]
  },
  {
   "cell_type": "code",
   "execution_count": null,
   "id": "ba67d5ed",
   "metadata": {},
   "outputs": [],
   "source": [
    "# Profitability ratios\n",
    "def ratios_prof(R,C,RO,CA,ratio):\n",
    "    if ratio == 'RFP':\n",
    "        result  = (R/C)*100\n",
    "    elif ratio == 'ME': \n",
    "        result = (RO/CA)*100\n",
    "    elif ratio == 'MN':  \n",
    "        result = (R/CA)*100\n",
    "    return result    "
   ]
  },
  {
   "cell_type": "code",
   "execution_count": null,
   "id": "91a4e140",
   "metadata": {},
   "outputs": [],
   "source": [
    "ratios_prof(511,619,522,844,'ME')"
   ]
  },
  {
   "cell_type": "code",
   "execution_count": null,
   "id": "a414f339",
   "metadata": {},
   "outputs": [],
   "source": [
    "# Define the calculate_roi function\n",
    "def calculate_roi(initial_investment, final_value):\n",
    "    roi = ((final_value - initial_investment) / initial_investment) * 100\n",
    "    return roi\n",
    "# Calculate and display the ROI\n",
    "initial_investment = 10000\n",
    "final_value = 13500\n",
    "# Calculate ROI using the calculate_roi function\n",
    "investment_return = calculate_roi(initial_investment, final_value)\n",
    "# Display the calculated ROI\n",
    "print(f\"The ROI is: {round(investment_return,3)}%\")"
   ]
  },
  {
   "cell_type": "code",
   "execution_count": null,
   "id": "b4e4d87c",
   "metadata": {},
   "outputs": [],
   "source": [
    "# Ex 4:\n",
    "# display the following message \n",
    "# \"please correct the ratio\""
   ]
  },
  {
   "cell_type": "code",
   "execution_count": null,
   "id": "367f23dd",
   "metadata": {},
   "outputs": [],
   "source": [
    "# Ex 5:\n",
    "# you have the following list : \n",
    "tp = [\"apple\", \"a\", 22, 66, 951, \"microsoft\"]\n",
    "# display : (\"a\", 22, 66, 951)"
   ]
  },
  {
   "cell_type": "code",
   "execution_count": null,
   "id": "23433733",
   "metadata": {},
   "outputs": [],
   "source": [
    "# Ex 6:\n",
    "company = [\"AAA\", \"AB\", \"ESG:55\", \"Credit Score: BB\", \"Solvency Score: AA\"]\n",
    "# use a loop to display \n",
    "\"AB\" \n",
    "\"ESG:55\"\n",
    "\"Credit Score: BB\""
   ]
  },
  {
   "cell_type": "code",
   "execution_count": null,
   "id": "e096a6e5",
   "metadata": {},
   "outputs": [],
   "source": [
    "a = 2.32154789654123"
   ]
  },
  {
   "cell_type": "code",
   "execution_count": null,
   "id": "32c1f4e8",
   "metadata": {},
   "outputs": [],
   "source": [
    "print(f\"{a:f}\")"
   ]
  },
  {
   "cell_type": "code",
   "execution_count": null,
   "id": "aac55438",
   "metadata": {},
   "outputs": [],
   "source": [
    "s = 2.321547\n",
    "type(s)\n",
    "print(round(s,3))"
   ]
  },
  {
   "cell_type": "code",
   "execution_count": null,
   "id": "00280169",
   "metadata": {},
   "outputs": [],
   "source": [
    "s = \"essca\"\n",
    "print(\"Bob is studying at\", s, \"this year\")"
   ]
  },
  {
   "cell_type": "code",
   "execution_count": null,
   "id": "57b1c56b",
   "metadata": {},
   "outputs": [],
   "source": [
    "print(f\"Bob is studying at {s} this year\" )"
   ]
  },
  {
   "cell_type": "code",
   "execution_count": null,
   "id": "06a083d3",
   "metadata": {},
   "outputs": [],
   "source": [
    "cash_flow = 2000\n",
    "interest_rate = 0.08\n",
    "years = 5\n",
    "future_value = sum([cash_flow/ (1 + interest_rate) ** i for i in range(1, years+1)])\n",
    "print(\"Future Value of Cash Flows:\", future_value)"
   ]
  },
  {
   "cell_type": "code",
   "execution_count": null,
   "id": "c80052b6",
   "metadata": {},
   "outputs": [],
   "source": [
    "cf = 2000\n",
    "r = 0.08\n",
    "fv2 = 0\n",
    "for i in range(1,6):\n",
    "    fv = (cf/(1+r)**i)\n",
    "    fv2 +=fv\n",
    "    print(fv)\n",
    "print(\"la somme est égale à\",fv2)    "
   ]
  },
  {
   "cell_type": "code",
   "execution_count": null,
   "id": "debd0b35",
   "metadata": {},
   "outputs": [],
   "source": [
    "for i in range(1,5):\n",
    "    print(i)"
   ]
  },
  {
   "cell_type": "code",
   "execution_count": null,
   "id": "c5bc60d9",
   "metadata": {},
   "outputs": [],
   "source": [
    "n = 0\n",
    "for i in range(1,5):\n",
    "    n +=i\n",
    "    print(i,n)"
   ]
  },
  {
   "cell_type": "code",
   "execution_count": null,
   "id": "aa29ef3c",
   "metadata": {},
   "outputs": [],
   "source": [
    "# Profitability ratios - advanced\n",
    "def ratios_prof(R,C,RO,CA,ratio):\n",
    "    if ratio == 'RFP':\n",
    "        result  = (R/C)*100\n",
    "    elif ratio == 'ME': \n",
    "        result = (RO/CA)*100\n",
    "    elif ratio == 'MN':  \n",
    "        result = (R/CA)*100\n",
    "    return result"
   ]
  },
  {
   "cell_type": "code",
   "execution_count": null,
   "id": "f00b9ac1",
   "metadata": {},
   "outputs": [],
   "source": [
    "R, C, RO, CA, ratio_type = 511, 619, 522, 844, \"RFP\"\n",
    "ratios_prof(R, C, RO, CA, ratio_type)\n",
    "# display if you make a mistake in ratio_type \n",
    "# \"correct your ratio_type\""
   ]
  },
  {
   "cell_type": "code",
   "execution_count": null,
   "id": "998c294c",
   "metadata": {},
   "outputs": [],
   "source": [
    "# Profitability ratios calculation \n",
    "def ratios_prof2(R, C, RO, CA, ratio_type):\n",
    "    if ratio_type == 'RFP':\n",
    "        result = (R/C)*100\n",
    "    elif ratio_type == 'ME':\n",
    "        result = (RO/CA)*100\n",
    "    elif ratio_type == 'MN':\n",
    "        result = (RO/CA)*100\n",
    "    else:\n",
    "        result = 999 # in case of wrong input \"ratio_type\"\n",
    "    c = round(result,2)\n",
    "    return c"
   ]
  },
  {
   "cell_type": "code",
   "execution_count": null,
   "id": "ce209d55",
   "metadata": {},
   "outputs": [],
   "source": [
    "R, C, RO, CA, ratio_type = 511, 619, 522, 844, \"AA\"\n",
    "c = ratios_prof2(R, C, RO, CA, ratio_type)\n",
    "if c != 999:\n",
    "    print(c)\n",
    "else: \n",
    "    print(\"correct your ratio_type\")"
   ]
  },
  {
   "cell_type": "code",
   "execution_count": null,
   "id": "140d0514",
   "metadata": {},
   "outputs": [],
   "source": [
    "#\n",
    "# add 99 in the end of the list ss \n",
    "ss = [1,2,3,5,6]\n",
    "#[1,2,3,5,6,99]"
   ]
  },
  {
   "cell_type": "code",
   "execution_count": null,
   "id": "a7a4ba4a",
   "metadata": {},
   "outputs": [],
   "source": [
    "ss.append(99)\n",
    "print(ss)"
   ]
  },
  {
   "cell_type": "markdown",
   "id": "c9c7a7ce",
   "metadata": {},
   "source": [
    "# Wikipedia"
   ]
  },
  {
   "cell_type": "code",
   "execution_count": null,
   "id": "fe02a688",
   "metadata": {},
   "outputs": [],
   "source": [
    "# to run only once \n",
    "!pip install wikipedia"
   ]
  },
  {
   "cell_type": "code",
   "execution_count": null,
   "id": "0228dfb9",
   "metadata": {},
   "outputs": [],
   "source": [
    "import wikipedia\n",
    "wikipedia.set_lang(\"fr\")\n",
    "print(wikipedia.summary(\"Bitcoin\", sentences =2))"
   ]
  },
  {
   "cell_type": "code",
   "execution_count": null,
   "id": "6e097d63",
   "metadata": {},
   "outputs": [],
   "source": [
    "!pip install python-docx"
   ]
  },
  {
   "cell_type": "code",
   "execution_count": null,
   "id": "4f307f8c",
   "metadata": {},
   "outputs": [],
   "source": [
    "import docx"
   ]
  }
 ],
 "metadata": {
  "kernelspec": {
   "display_name": "Python 3",
   "language": "python",
   "name": "python3"
  },
  "language_info": {
   "codemirror_mode": {
    "name": "ipython",
    "version": 3
   },
   "file_extension": ".py",
   "mimetype": "text/x-python",
   "name": "python",
   "nbconvert_exporter": "python",
   "pygments_lexer": "ipython3",
   "version": "3.8.5"
  }
 },
 "nbformat": 4,
 "nbformat_minor": 5
}
